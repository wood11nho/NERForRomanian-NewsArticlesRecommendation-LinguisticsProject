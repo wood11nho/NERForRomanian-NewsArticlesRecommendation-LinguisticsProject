{
 "cells": [
  {
   "cell_type": "code",
   "execution_count": 3,
   "metadata": {},
   "outputs": [],
   "source": [
    "import streamlit as st\n",
    "import requests\n",
    "import pandas as pd\n",
    "from pyvis.network import Network\n",
    "import networkx as nx"
   ]
  },
  {
   "cell_type": "code",
   "execution_count": 4,
   "metadata": {},
   "outputs": [
    {
     "name": "stderr",
     "output_type": "stream",
     "text": [
      "2025-01-06 00:53:14.979 WARNING streamlit.runtime.scriptrunner_utils.script_run_context: Thread 'MainThread': missing ScriptRunContext! This warning can be ignored when running in bare mode.\n",
      "2025-01-06 00:53:15.738 \n",
      "  \u001b[33m\u001b[1mWarning:\u001b[0m to view this Streamlit app on a browser, run it with the following\n",
      "  command:\n",
      "\n",
      "    streamlit run c:\\Users\\stoic\\miniconda3\\envs\\llms_env\\lib\\site-packages\\ipykernel_launcher.py [ARGUMENTS]\n",
      "2025-01-06 00:53:15.739 Thread 'MainThread': missing ScriptRunContext! This warning can be ignored when running in bare mode.\n",
      "2025-01-06 00:53:15.741 Thread 'MainThread': missing ScriptRunContext! This warning can be ignored when running in bare mode.\n",
      "2025-01-06 00:53:15.742 Thread 'MainThread': missing ScriptRunContext! This warning can be ignored when running in bare mode.\n",
      "2025-01-06 00:53:15.743 Thread 'MainThread': missing ScriptRunContext! This warning can be ignored when running in bare mode.\n",
      "2025-01-06 00:53:15.744 Thread 'MainThread': missing ScriptRunContext! This warning can be ignored when running in bare mode.\n",
      "2025-01-06 00:53:15.747 Session state does not function when running a script without `streamlit run`\n",
      "2025-01-06 00:53:15.748 Thread 'MainThread': missing ScriptRunContext! This warning can be ignored when running in bare mode.\n",
      "2025-01-06 00:53:15.750 Thread 'MainThread': missing ScriptRunContext! This warning can be ignored when running in bare mode.\n",
      "2025-01-06 00:53:15.751 Thread 'MainThread': missing ScriptRunContext! This warning can be ignored when running in bare mode.\n",
      "2025-01-06 00:53:15.752 Thread 'MainThread': missing ScriptRunContext! This warning can be ignored when running in bare mode.\n",
      "2025-01-06 00:53:15.753 Thread 'MainThread': missing ScriptRunContext! This warning can be ignored when running in bare mode.\n",
      "2025-01-06 00:53:15.755 Thread 'MainThread': missing ScriptRunContext! This warning can be ignored when running in bare mode.\n",
      "2025-01-06 00:53:15.757 Thread 'MainThread': missing ScriptRunContext! This warning can be ignored when running in bare mode.\n"
     ]
    }
   ],
   "source": [
    "# App title\n",
    "st.title(\"Romanian News App with NER\")\n",
    "\n",
    "# Search bar\n",
    "query = st.text_input(\"Search for news articles\")\n",
    "\n",
    "# Filters\n",
    "categories = st.multiselect(\n",
    "    \"Filter by category\", \n",
    "    options=[\"politica\", \"sanatate\", \"educatie\", \"sport\", \"divertisment\"]\n",
    ")"
   ]
  },
  {
   "cell_type": "code",
   "execution_count": 5,
   "metadata": {},
   "outputs": [
    {
     "name": "stderr",
     "output_type": "stream",
     "text": [
      "2025-01-06 00:53:22.377 Thread 'MainThread': missing ScriptRunContext! This warning can be ignored when running in bare mode.\n",
      "2025-01-06 00:53:22.379 Thread 'MainThread': missing ScriptRunContext! This warning can be ignored when running in bare mode.\n",
      "2025-01-06 00:53:22.380 Thread 'MainThread': missing ScriptRunContext! This warning can be ignored when running in bare mode.\n",
      "2025-01-06 00:53:22.382 Thread 'MainThread': missing ScriptRunContext! This warning can be ignored when running in bare mode.\n",
      "2025-01-06 00:53:22.383 Thread 'MainThread': missing ScriptRunContext! This warning can be ignored when running in bare mode.\n"
     ]
    }
   ],
   "source": [
    "# Search button\n",
    "if st.button(\"Search\"):\n",
    "    # Send request to FastAPI backend\n",
    "    response = requests.post(\n",
    "        \"http://localhost:8000/search\",\n",
    "        json={\"query\": query, \"filters\": categories},\n",
    "    )\n",
    "    results = response.json()[\"results\"]\n",
    "\n",
    "    # Display results\n",
    "    st.subheader(\"Top 10 Relevant News\")\n",
    "    for result in results:\n",
    "        st.write(f\"**{result['Title']}**\")\n",
    "        st.write(f\"*Category: {result['Category']}*\")\n",
    "        st.write(result[\"Content\"])\n",
    "        st.write(\"---\")\n"
   ]
  },
  {
   "cell_type": "code",
   "execution_count": 6,
   "metadata": {},
   "outputs": [
    {
     "name": "stderr",
     "output_type": "stream",
     "text": [
      "2025-01-06 00:53:31.011 Thread 'MainThread': missing ScriptRunContext! This warning can be ignored when running in bare mode.\n",
      "2025-01-06 00:53:31.013 Thread 'MainThread': missing ScriptRunContext! This warning can be ignored when running in bare mode.\n",
      "2025-01-06 00:53:31.014 Thread 'MainThread': missing ScriptRunContext! This warning can be ignored when running in bare mode.\n",
      "2025-01-06 00:53:31.015 Thread 'MainThread': missing ScriptRunContext! This warning can be ignored when running in bare mode.\n",
      "2025-01-06 00:53:31.016 Thread 'MainThread': missing ScriptRunContext! This warning can be ignored when running in bare mode.\n"
     ]
    }
   ],
   "source": [
    "# Visualizations\n",
    "if st.button(\"Show Knowledge Graph\"):\n",
    "    # Use Pyvis for entity relationships\n",
    "    G = nx.Graph()\n",
    "    for row in results:\n",
    "        entities = eval(row[\"entities\"])\n",
    "        for entity in entities:\n",
    "            G.add_node(entity[\"text\"], label=entity[\"tag\"])\n",
    "\n",
    "    # Render graph\n",
    "    net = Network(notebook=True)\n",
    "    net.from_nx(G)\n",
    "    net.show(\"knowledge_graph.html\")\n",
    "    st.write(\"Knowledge graph generated! Open the file to view.\")"
   ]
  }
 ],
 "metadata": {
  "kernelspec": {
   "display_name": "llms_env",
   "language": "python",
   "name": "python3"
  },
  "language_info": {
   "codemirror_mode": {
    "name": "ipython",
    "version": 3
   },
   "file_extension": ".py",
   "mimetype": "text/x-python",
   "name": "python",
   "nbconvert_exporter": "python",
   "pygments_lexer": "ipython3",
   "version": "3.9.20"
  }
 },
 "nbformat": 4,
 "nbformat_minor": 2
}
