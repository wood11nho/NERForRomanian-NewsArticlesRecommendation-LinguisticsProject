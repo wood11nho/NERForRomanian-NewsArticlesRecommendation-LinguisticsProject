{
 "cells": [
  {
   "cell_type": "code",
   "execution_count": 2,
   "metadata": {},
   "outputs": [],
   "source": [
    "from fastapi import FastAPI, Query\n",
    "from pydantic import BaseModel\n",
    "from typing import List\n",
    "import pandas as pd\n",
    "import numpy as np\n",
    "from sklearn.feature_extraction.text import TfidfVectorizer\n",
    "from sklearn.metrics.pairwise import cosine_similarity"
   ]
  },
  {
   "cell_type": "code",
   "execution_count": 3,
   "metadata": {},
   "outputs": [],
   "source": [
    "# Initialize FastAPI\n",
    "app = FastAPI()"
   ]
  },
  {
   "cell_type": "code",
   "execution_count": 4,
   "metadata": {},
   "outputs": [],
   "source": [
    "# Load dataset\n",
    "news_data = pd.read_csv(\"NewsArticles/entities_and_relations.csv\")\n",
    "news_data.fillna(\"\", inplace=True)"
   ]
  },
  {
   "cell_type": "code",
   "execution_count": 5,
   "metadata": {},
   "outputs": [],
   "source": [
    "# Model for search queries\n",
    "class SearchQuery(BaseModel):\n",
    "    query: str\n",
    "    filters: List[str] = []"
   ]
  },
  {
   "cell_type": "code",
   "execution_count": 6,
   "metadata": {},
   "outputs": [],
   "source": [
    "# Helper to compute cosine similarity\n",
    "def compute_similarity(query, corpus):\n",
    "    vectorizer = TfidfVectorizer()\n",
    "    tfidf_matrix = vectorizer.fit_transform(corpus)\n",
    "    query_vector = vectorizer.transform([query])\n",
    "    similarity_scores = cosine_similarity(query_vector, tfidf_matrix).flatten()\n",
    "    return similarity_scores"
   ]
  },
  {
   "cell_type": "code",
   "execution_count": 7,
   "metadata": {},
   "outputs": [],
   "source": [
    "@app.post(\"/search\")\n",
    "def search_news(search_query: SearchQuery):\n",
    "    query = search_query.query\n",
    "    filters = search_query.filters\n",
    "\n",
    "    # Apply filters\n",
    "    filtered_data = news_data\n",
    "    if filters:\n",
    "        for f in filters:\n",
    "            filtered_data = filtered_data[filtered_data[\"Category\"].str.contains(f, case=False)]\n",
    "\n",
    "    # Compute relevance\n",
    "    corpus = filtered_data[\"Content\"].tolist()\n",
    "    filtered_data[\"similarity\"] = compute_similarity(query, corpus)\n",
    "\n",
    "    # Top 10 results\n",
    "    results = (\n",
    "        filtered_data.sort_values(by=\"similarity\", ascending=False)\n",
    "        .head(10)\n",
    "        .to_dict(orient=\"records\")\n",
    "    )\n",
    "    return {\"results\": results}"
   ]
  }
 ],
 "metadata": {
  "kernelspec": {
   "display_name": "llms_env",
   "language": "python",
   "name": "python3"
  },
  "language_info": {
   "codemirror_mode": {
    "name": "ipython",
    "version": 3
   },
   "file_extension": ".py",
   "mimetype": "text/x-python",
   "name": "python",
   "nbconvert_exporter": "python",
   "pygments_lexer": "ipython3",
   "version": "3.9.20"
  }
 },
 "nbformat": 4,
 "nbformat_minor": 2
}
